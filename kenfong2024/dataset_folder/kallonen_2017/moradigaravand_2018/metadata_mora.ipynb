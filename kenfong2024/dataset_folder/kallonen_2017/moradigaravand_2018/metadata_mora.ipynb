{
 "cells": [
  {
   "cell_type": "markdown",
   "metadata": {},
   "source": [
    "# Metadata Moradigaravand  Exploratory Data Analysis"
   ]
  },
  {
   "cell_type": "code",
   "execution_count": 9,
   "metadata": {},
   "outputs": [
    {
     "ename": "ModuleNotFoundError",
     "evalue": "No module named 'pandas'",
     "output_type": "error",
     "traceback": [
      "\u001b[0;31m---------------------------------------------------------------------------\u001b[0m",
      "\u001b[0;31mModuleNotFoundError\u001b[0m                       Traceback (most recent call last)",
      "Cell \u001b[0;32mIn[9], line 1\u001b[0m\n\u001b[0;32m----> 1\u001b[0m \u001b[38;5;28;01mimport\u001b[39;00m \u001b[38;5;21;01mpandas\u001b[39;00m \u001b[38;5;28;01mas\u001b[39;00m \u001b[38;5;21;01mpd\u001b[39;00m \n",
      "\u001b[0;31mModuleNotFoundError\u001b[0m: No module named 'pandas'"
     ]
    }
   ],
   "source": [
    "import pandas as pd "
   ]
  },
  {
   "cell_type": "code",
   "execution_count": 1,
   "metadata": {},
   "outputs": [
    {
     "data": {
      "text/plain": [
       "'/Users/abdoulabdillahi/Desktop/Konfong_Ecoli_ML/Kenfong_Ecoli_ML/kenfong2024/dataset_folder/kallonen_2017/moradigaravand_2018'"
      ]
     },
     "execution_count": 1,
     "metadata": {},
     "output_type": "execute_result"
    }
   ],
   "source": [
    "pwd"
   ]
  },
  {
   "cell_type": "code",
   "execution_count": 2,
   "metadata": {},
   "outputs": [
    {
     "ename": "NameError",
     "evalue": "name 'pd' is not defined",
     "output_type": "error",
     "traceback": [
      "\u001b[0;31m---------------------------------------------------------------------------\u001b[0m",
      "\u001b[0;31mNameError\u001b[0m                                 Traceback (most recent call last)",
      "Cell \u001b[0;32mIn[2], line 1\u001b[0m\n\u001b[0;32m----> 1\u001b[0m gladstone_df \u001b[38;5;241m=\u001b[39m \u001b[43mpd\u001b[49m\u001b[38;5;241m.\u001b[39mread_csv(\u001b[38;5;124m\"\u001b[39m\u001b[38;5;124m./metadata_mordigaravand_2018.csv\u001b[39m\u001b[38;5;124m\"\u001b[39m)\n\u001b[1;32m      2\u001b[0m gladstone_df\u001b[38;5;241m.\u001b[39mshape\n",
      "\u001b[0;31mNameError\u001b[0m: name 'pd' is not defined"
     ]
    }
   ],
   "source": [
    "moradigaravand_df = pd.read_csv(\"./metadata_mordigaravand_2018.csv\")\n",
    "moradigaravand_df.shape"
   ]
  },
  {
   "cell_type": "code",
   "execution_count": 4,
   "metadata": {},
   "outputs": [
    {
     "data": {
      "text/html": [
       "<div>\n",
       "<style scoped>\n",
       "    .dataframe tbody tr th:only-of-type {\n",
       "        vertical-align: middle;\n",
       "    }\n",
       "\n",
       "    .dataframe tbody tr th {\n",
       "        vertical-align: top;\n",
       "    }\n",
       "\n",
       "    .dataframe thead th {\n",
       "        text-align: right;\n",
       "    }\n",
       "</style>\n",
       "<table border=\"1\" class=\"dataframe\">\n",
       "  <thead>\n",
       "    <tr style=\"text-align: right;\">\n",
       "      <th></th>\n",
       "      <th>Id</th>\n",
       "      <th>Run accession</th>\n",
       "      <th>popPUNK_cluster__autocolour</th>\n",
       "      <th>ST__autocolour</th>\n",
       "      <th>CC131_clades__autocolour</th>\n",
       "      <th>Duplicate__autocolour</th>\n",
       "      <th>year</th>\n",
       "      <th>Lab</th>\n",
       "      <th>Hospital name</th>\n",
       "      <th>Regional health authority</th>\n",
       "      <th>...</th>\n",
       "      <th>Ciprofloxacin_SIR__colour</th>\n",
       "      <th>ESBL__colour</th>\n",
       "      <th>Gentamicin_SIR__colour</th>\n",
       "      <th>Meropenem_SIR__colour</th>\n",
       "      <th>Nalidixin_SIR__colour</th>\n",
       "      <th>Piperacillin_tazobactam_SIR__colour</th>\n",
       "      <th>Sulfa_SIR__colour</th>\n",
       "      <th>Tigecyklin_SIR__colour</th>\n",
       "      <th>Tobramycin_SIR__colour</th>\n",
       "      <th>Trimetoprim_sulfa_SIR__colour</th>\n",
       "    </tr>\n",
       "  </thead>\n",
       "  <tbody>\n",
       "    <tr>\n",
       "      <th>0</th>\n",
       "      <td>30134_6_100</td>\n",
       "      <td>ERR4034085</td>\n",
       "      <td>1</td>\n",
       "      <td>73</td>\n",
       "      <td>NaN</td>\n",
       "      <td>NaN</td>\n",
       "      <td>2004</td>\n",
       "      <td>Tromsø</td>\n",
       "      <td>Universitetssykehuset Nord-Norge</td>\n",
       "      <td>Helse Nord</td>\n",
       "      <td>...</td>\n",
       "      <td>#57C4AD</td>\n",
       "      <td>NaN</td>\n",
       "      <td>#57C4AD</td>\n",
       "      <td>#57C4AD</td>\n",
       "      <td>NaN</td>\n",
       "      <td>#57C4AD</td>\n",
       "      <td>NaN</td>\n",
       "      <td>NaN</td>\n",
       "      <td>NaN</td>\n",
       "      <td>#57C4AD</td>\n",
       "    </tr>\n",
       "    <tr>\n",
       "      <th>1</th>\n",
       "      <td>30134_6_101</td>\n",
       "      <td>ERR4034086</td>\n",
       "      <td>8</td>\n",
       "      <td>127</td>\n",
       "      <td>NaN</td>\n",
       "      <td>NaN</td>\n",
       "      <td>2015</td>\n",
       "      <td>Tromsø</td>\n",
       "      <td>Universitetssykehuset Nord-Norge</td>\n",
       "      <td>Helse Nord</td>\n",
       "      <td>...</td>\n",
       "      <td>#57C4AD</td>\n",
       "      <td>#57C4AD</td>\n",
       "      <td>#57C4AD</td>\n",
       "      <td>#57C4AD</td>\n",
       "      <td>NaN</td>\n",
       "      <td>#EDA247</td>\n",
       "      <td>NaN</td>\n",
       "      <td>#57C4AD</td>\n",
       "      <td>NaN</td>\n",
       "      <td>#57C4AD</td>\n",
       "    </tr>\n",
       "    <tr>\n",
       "      <th>2</th>\n",
       "      <td>30134_6_103</td>\n",
       "      <td>ERR4034087</td>\n",
       "      <td>3</td>\n",
       "      <td>69</td>\n",
       "      <td>NaN</td>\n",
       "      <td>NaN</td>\n",
       "      <td>2013</td>\n",
       "      <td>Tromsø</td>\n",
       "      <td>Universitetssykehuset Nord-Norge</td>\n",
       "      <td>Helse Nord</td>\n",
       "      <td>...</td>\n",
       "      <td>#57C4AD</td>\n",
       "      <td>NaN</td>\n",
       "      <td>#57C4AD</td>\n",
       "      <td>#57C4AD</td>\n",
       "      <td>NaN</td>\n",
       "      <td>#57C4AD</td>\n",
       "      <td>NaN</td>\n",
       "      <td>#57C4AD</td>\n",
       "      <td>NaN</td>\n",
       "      <td>#DB4325</td>\n",
       "    </tr>\n",
       "    <tr>\n",
       "      <th>3</th>\n",
       "      <td>30134_6_104</td>\n",
       "      <td>ERR4034088</td>\n",
       "      <td>1</td>\n",
       "      <td>73</td>\n",
       "      <td>NaN</td>\n",
       "      <td>NaN</td>\n",
       "      <td>2005</td>\n",
       "      <td>Tromsø</td>\n",
       "      <td>Universitetssykehuset Nord-Norge</td>\n",
       "      <td>Helse Nord</td>\n",
       "      <td>...</td>\n",
       "      <td>#57C4AD</td>\n",
       "      <td>NaN</td>\n",
       "      <td>#57C4AD</td>\n",
       "      <td>#57C4AD</td>\n",
       "      <td>NaN</td>\n",
       "      <td>#57C4AD</td>\n",
       "      <td>NaN</td>\n",
       "      <td>NaN</td>\n",
       "      <td>NaN</td>\n",
       "      <td>#57C4AD</td>\n",
       "    </tr>\n",
       "    <tr>\n",
       "      <th>4</th>\n",
       "      <td>30134_6_105</td>\n",
       "      <td>ERR4034089</td>\n",
       "      <td>5</td>\n",
       "      <td>537</td>\n",
       "      <td>NaN</td>\n",
       "      <td>NaN</td>\n",
       "      <td>2011</td>\n",
       "      <td>Tromsø</td>\n",
       "      <td>Universitetssykehuset Nord-Norge</td>\n",
       "      <td>Helse Nord</td>\n",
       "      <td>...</td>\n",
       "      <td>#57C4AD</td>\n",
       "      <td>NaN</td>\n",
       "      <td>#57C4AD</td>\n",
       "      <td>#57C4AD</td>\n",
       "      <td>NaN</td>\n",
       "      <td>#57C4AD</td>\n",
       "      <td>NaN</td>\n",
       "      <td>#57C4AD</td>\n",
       "      <td>NaN</td>\n",
       "      <td>#57C4AD</td>\n",
       "    </tr>\n",
       "  </tbody>\n",
       "</table>\n",
       "<p>5 rows × 81 columns</p>\n",
       "</div>"
      ],
      "text/plain": [
       "            Id Run accession  popPUNK_cluster__autocolour  ST__autocolour  \\\n",
       "0  30134_6_100    ERR4034085                            1              73   \n",
       "1  30134_6_101    ERR4034086                            8             127   \n",
       "2  30134_6_103    ERR4034087                            3              69   \n",
       "3  30134_6_104    ERR4034088                            1              73   \n",
       "4  30134_6_105    ERR4034089                            5             537   \n",
       "\n",
       "  CC131_clades__autocolour Duplicate__autocolour  year     Lab  \\\n",
       "0                      NaN                   NaN  2004  Tromsø   \n",
       "1                      NaN                   NaN  2015  Tromsø   \n",
       "2                      NaN                   NaN  2013  Tromsø   \n",
       "3                      NaN                   NaN  2005  Tromsø   \n",
       "4                      NaN                   NaN  2011  Tromsø   \n",
       "\n",
       "                      Hospital name Regional health authority  ...  \\\n",
       "0  Universitetssykehuset Nord-Norge                Helse Nord  ...   \n",
       "1  Universitetssykehuset Nord-Norge                Helse Nord  ...   \n",
       "2  Universitetssykehuset Nord-Norge                Helse Nord  ...   \n",
       "3  Universitetssykehuset Nord-Norge                Helse Nord  ...   \n",
       "4  Universitetssykehuset Nord-Norge                Helse Nord  ...   \n",
       "\n",
       "  Ciprofloxacin_SIR__colour  ESBL__colour  Gentamicin_SIR__colour  \\\n",
       "0                   #57C4AD           NaN                 #57C4AD   \n",
       "1                   #57C4AD       #57C4AD                 #57C4AD   \n",
       "2                   #57C4AD           NaN                 #57C4AD   \n",
       "3                   #57C4AD           NaN                 #57C4AD   \n",
       "4                   #57C4AD           NaN                 #57C4AD   \n",
       "\n",
       "  Meropenem_SIR__colour Nalidixin_SIR__colour  \\\n",
       "0               #57C4AD                   NaN   \n",
       "1               #57C4AD                   NaN   \n",
       "2               #57C4AD                   NaN   \n",
       "3               #57C4AD                   NaN   \n",
       "4               #57C4AD                   NaN   \n",
       "\n",
       "  Piperacillin_tazobactam_SIR__colour Sulfa_SIR__colour  \\\n",
       "0                             #57C4AD               NaN   \n",
       "1                             #EDA247               NaN   \n",
       "2                             #57C4AD               NaN   \n",
       "3                             #57C4AD               NaN   \n",
       "4                             #57C4AD               NaN   \n",
       "\n",
       "  Tigecyklin_SIR__colour Tobramycin_SIR__colour Trimetoprim_sulfa_SIR__colour  \n",
       "0                    NaN                    NaN                       #57C4AD  \n",
       "1                #57C4AD                    NaN                       #57C4AD  \n",
       "2                #57C4AD                    NaN                       #DB4325  \n",
       "3                    NaN                    NaN                       #57C4AD  \n",
       "4                #57C4AD                    NaN                       #57C4AD  \n",
       "\n",
       "[5 rows x 81 columns]"
      ]
     },
     "execution_count": 4,
     "metadata": {},
     "output_type": "execute_result"
    }
   ],
   "source": [
    "moradigaravand_df.head()"
   ]
  },
  {
   "cell_type": "code",
   "execution_count": 7,
   "metadata": {},
   "outputs": [
    {
     "name": "stdout",
     "output_type": "stream",
     "text": [
      "Id                                        0\n",
      "Run accession                             0\n",
      "popPUNK_cluster__autocolour               0\n",
      "ST__autocolour                            0\n",
      "CC131_clades__autocolour               2976\n",
      "                                       ... \n",
      "Piperacillin_tazobactam_SIR__colour       0\n",
      "Sulfa_SIR__colour                      3254\n",
      "Tigecyklin_SIR__colour                  767\n",
      "Tobramycin_SIR__colour                 3058\n",
      "Trimetoprim_sulfa_SIR__colour             0\n",
      "Length: 81, dtype: int64\n"
     ]
    }
   ],
   "source": [
    "# Count NaN values per column\n",
    "# pd.set_option('display.max_rows', None)\n",
    "# pd.set_option('display.max_columns', None)\n",
    "\n",
    "nan_counts = moradigaravand_df.isna().sum()\n",
    "print(nan_counts)"
   ]
  },
  {
   "cell_type": "code",
   "execution_count": null,
   "metadata": {},
   "outputs": [],
   "source": []
  }
 ],
 "metadata": {
  "kernelspec": {
   "display_name": "ml_env",
   "language": "python",
   "name": "python3"
  },
  "language_info": {
   "codemirror_mode": {
    "name": "ipython",
    "version": 3
   },
   "file_extension": ".py",
   "mimetype": "text/x-python",
   "name": "python",
   "nbconvert_exporter": "python",
   "pygments_lexer": "ipython3",
   "version": "3.9.6"
  }
 },
 "nbformat": 4,
 "nbformat_minor": 2
}
