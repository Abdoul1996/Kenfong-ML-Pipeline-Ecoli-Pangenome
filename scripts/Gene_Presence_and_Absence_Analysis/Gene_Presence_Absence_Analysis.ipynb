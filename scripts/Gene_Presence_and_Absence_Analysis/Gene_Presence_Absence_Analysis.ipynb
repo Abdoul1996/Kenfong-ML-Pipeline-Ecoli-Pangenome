{
 "cells": [
  {
   "cell_type": "markdown",
   "metadata": {},
   "source": [
    "## Gene Presence and Absence Analysis"
   ]
  },
  {
   "cell_type": "markdown",
   "metadata": {},
   "source": [
    "### File path where the pangenome is stored\n",
    "\n",
    "Path: /usr/data/codelab/3-dataset-pangenome/roary-output\n",
    "\n"
   ]
  },
  {
   "cell_type": "code",
   "execution_count": 2,
   "metadata": {},
   "outputs": [
    {
     "name": "stdout",
     "output_type": "stream",
     "text": [
      "accessory_binary_genes.fa\t  core_alignment_header.embl\n",
      "accessory_binary_genes.fa.newick  core_gene_alignment.aln\n",
      "accessory_graph.dot\t\t  gene_presence_absence.csv\n",
      "accessory.header.embl\t\t  gene_presence_absence.Rtab\n",
      "accessory.tab\t\t\t  number_of_conserved_genes.Rtab\n",
      "blast_identity_frequency.Rtab\t  number_of_genes_in_pan_genome.Rtab\n",
      "clustered_proteins\t\t  number_of_new_genes.Rtab\n",
      "core_accessory_graph.dot\t  number_of_unique_genes.Rtab\n",
      "core_accessory.header.embl\t  pan_genome_reference.fa\n",
      "core_accessory.tab\t\t  summary_statistics.txt\n"
     ]
    }
   ],
   "source": [
    "!ls /usr/data/codelab/3-dataset-pangenome/roary-output"
   ]
  },
  {
   "cell_type": "code",
   "execution_count": 3,
   "metadata": {},
   "outputs": [],
   "source": [
    "import pandas as pd"
   ]
  },
  {
   "cell_type": "code",
   "execution_count": 4,
   "metadata": {},
   "outputs": [],
   "source": [
    "file_path = pd.read_csv(\"/usr/data/codelab/3-dataset-pangenome/roary-output/gene_presence_absence.Rtab\", sep=\"\\t\")"
   ]
  },
  {
   "cell_type": "code",
   "execution_count": 7,
   "metadata": {},
   "outputs": [
    {
     "data": {
      "text/plain": [
       "(24739, 201)"
      ]
     },
     "execution_count": 7,
     "metadata": {},
     "output_type": "execute_result"
    }
   ],
   "source": [
    "file_path.shape"
   ]
  },
  {
   "cell_type": "code",
   "execution_count": 8,
   "metadata": {},
   "outputs": [],
   "source": [
    "file_path.tail()"
   ]
  },
  {
   "cell_type": "markdown",
   "metadata": {},
   "source": [
    "### Overview\n",
    "I created two functions:\n",
    "\n",
    "1. **Print Genes with Fewer than 10 '1's**  \n",
    "   This function identifies genes that are present in fewer than 10 samples.\n",
    "   \n",
    "2. **Print Entire List of Genes**  \n",
    "   This function provides a full list of genes along with the count of '1's (presence) and '0's (absence) across samples.\n",
    "\n",
    "### Notation\n",
    "- **1**: Indicates the gene is **present** in that specific sample.\n",
    "- **0**: Indicates the gene is **absent** in that specific sample."
   ]
  },
  {
   "cell_type": "markdown",
   "metadata": {},
   "source": [
    "### Function 1: Print Genes with Fewer than 10 '1's and the respective sample names"
   ]
  },
  {
   "cell_type": "code",
   "execution_count": 10,
   "metadata": {},
   "outputs": [],
   "source": [
    "def print_genes_with_less_than_10_ones(df):\n",
    "    for index, row in df.iterrows():\n",
    "        gene = row['Gene']\n",
    "        count_ones = (row[1:] == 1).sum()  # Count of 1s\n",
    "        \n",
    "        if count_ones < 10:\n",
    "            samples_with_ones = row.index[1:][row[1:] == 1].tolist()  # Get sample names with '1's\n",
    "            print(f\"Gene: {gene}, Count of 1s: {count_ones}, Samples with 1s: {samples_with_ones}\")\n",
    "        "
   ]
  },
  {
   "cell_type": "markdown",
   "metadata": {},
   "source": [
    "### Function 2: Print all genes with their count of '1's and '0's"
   ]
  },
  {
   "cell_type": "code",
   "execution_count": 11,
   "metadata": {},
   "outputs": [],
   "source": [
    "def print_all_genes(df):\n",
    "    for index, row in df.iterrows():\n",
    "        gene = row['Gene']\n",
    "        count_ones = (row[1:] == 1).sum()  # Count of 1s\n",
    "        count_zeros = (row[1:] == 0).sum()  # Count of 0s\n",
    "        print(f\"Gene: {gene}, Count of 1s: {count_ones}, Count of 0s: {count_zeros}\")\n",
    "        "
   ]
  },
  {
   "cell_type": "code",
   "execution_count": 14,
   "metadata": {},
   "outputs": [],
   "source": [
    "print_genes_with_less_than_10_ones(file_path)"
   ]
  },
  {
   "cell_type": "markdown",
   "metadata": {},
   "source": [
    "### Observation\n",
    "\n",
    "- There are **13,825 samples** where genes have fewer than 10 occurrences of '1'. A '1' indicates the presence of the gene in that sample.\n",
    "- Notably, many of these genes have names starting with \"group\" followed by numeric values.\n",
    "- For future reference, I have also saved the corresponding sample names where these genes are present.\n"
   ]
  }
 ],
 "metadata": {
  "kernelspec": {
   "display_name": "EstefanosEnv",
   "language": "python",
   "name": "python3"
  },
  "language_info": {
   "codemirror_mode": {
    "name": "ipython",
    "version": 3
   },
   "file_extension": ".py",
   "mimetype": "text/x-python",
   "name": "python",
   "nbconvert_exporter": "python",
   "pygments_lexer": "ipython3",
   "version": "3.9.18"
  }
 },
 "nbformat": 4,
 "nbformat_minor": 2
}
